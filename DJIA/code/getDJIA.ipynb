{
 "cells": [
  {
   "cell_type": "markdown",
   "id": "29232edb-395f-4e5a-9485-cd8966ff4a7c",
   "metadata": {},
   "source": [
    "### Gets DJIA values over time period"
   ]
  },
  {
   "cell_type": "code",
   "execution_count": 8,
   "id": "a16c2e5a-c219-4e9c-b483-5610a4c014dd",
   "metadata": {},
   "outputs": [],
   "source": [
    "import pandas as pd\n",
    "import yfinance as yf\n",
    "import datetime\n",
    "import os"
   ]
  },
  {
   "cell_type": "code",
   "execution_count": 12,
   "id": "dfef83d8-b6ba-4656-9c78-0ec99d10ce33",
   "metadata": {},
   "outputs": [],
   "source": [
    "start_date = \"2010-01-01\"\n",
    "end_date = \"2023-10-8\"\n",
    "\n",
    "dow_jones = yf.Ticker(\"^DJI\")\n",
    "pastData = dow_jones.history(start=start_date, end=end_date) # historical data\n",
    "\n",
    "pastData.sort_index(ascending=False, inplace=True)\n",
    "pastData.drop(['Dividends', 'Stock Splits'], axis=1, inplace=True)\n",
    "\n",
    "pastData.to_csv(\"../data/pastDJIA.csv\")"
   ]
  },
  {
   "cell_type": "code",
   "execution_count": 10,
   "id": "39a19dab",
   "metadata": {},
   "outputs": [
    {
     "name": "stderr",
     "output_type": "stream",
     "text": [
      "^DJI: No price data found, symbol may be delisted (1d 2023-10-09 -> 2023-10-09)\n"
     ]
    }
   ],
   "source": [
    "pastData = pd.read_csv(\"../data/pastDJIA.csv\")\n",
    "\n",
    "today = datetime.datetime.now().strftime('%Y-%m-%d')\n",
    "newData = dow_jones.history(period=\"1d\", start=today, end=today)"
   ]
  },
  {
   "cell_type": "code",
   "execution_count": 13,
   "id": "7b64aba3",
   "metadata": {},
   "outputs": [],
   "source": [
    "if not newData.empty:\n",
    "    updatedData = pastData.append(newData)\n",
    "\n",
    "    updatedData.sort_index(ascending=False, inplace=True)\n",
    "    newData.drop(['Dividends', 'Stock Splits'], axis=1, inplace=True, errors = \"ignore\")\n",
    "\n",
    "\n",
    "    updatedData.sort_index(ascending=False, inplace=True)\n",
    "    updatedData.drop(['Dividends', 'Stock Splits'], axis=1, inplace=True)\n",
    "    \n",
    "    updatedData.to_csv(\"../data/pastDJIA.csv\")\n",
    "    \n",
    "    print(\"Data successfully fetched and appended.\")"
   ]
  },
  {
   "cell_type": "code",
   "execution_count": 5,
   "id": "a734b55c",
   "metadata": {},
   "outputs": [
    {
     "name": "stderr",
     "output_type": "stream",
     "text": [
      "job 4 at Tue Oct 10 04:00:00 2023\n"
     ]
    },
    {
     "data": {
      "text/plain": [
       "0"
      ]
     },
     "execution_count": 5,
     "metadata": {},
     "output_type": "execute_result"
    }
   ],
   "source": [
    "os.system(\"echo '/Users/samfinard/src/1PA/Final-Project/DJIA/code/getDJIA.py' | at 04:00 tomorrow\")"
   ]
  }
 ],
 "metadata": {
  "kernelspec": {
   "display_name": "Python 3 (ipykernel)",
   "language": "python",
   "name": "python3"
  },
  "language_info": {
   "codemirror_mode": {
    "name": "ipython",
    "version": 3
   },
   "file_extension": ".py",
   "mimetype": "text/x-python",
   "name": "python",
   "nbconvert_exporter": "python",
   "pygments_lexer": "ipython3",
   "version": "3.11.5"
  }
 },
 "nbformat": 4,
 "nbformat_minor": 5
}
