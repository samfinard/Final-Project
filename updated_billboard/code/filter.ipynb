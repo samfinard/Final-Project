{
 "cells": [
  {
   "cell_type": "code",
   "execution_count": 21,
   "id": "bc7f8ab0-9435-405c-90b1-d6cc437158c6",
   "metadata": {},
   "outputs": [],
   "source": [
    "import pandas as pd\n",
    "import ast\n",
    "import nltk\n",
    "from nltk.corpus import wordnet"
   ]
  },
  {
   "cell_type": "markdown",
   "id": "88767c88-2f56-45bf-8fdd-4ff3aedb9cd5",
   "metadata": {},
   "source": [
    "### Only keep adjectives and verbs"
   ]
  },
  {
   "cell_type": "code",
   "execution_count": 22,
   "id": "627a04a9-51d0-463d-aabc-9ca8bc0b6824",
   "metadata": {},
   "outputs": [],
   "source": [
    "def filter_adj_and_verbs(word_freq_dict):\n",
    "    filtered_dict = {}\n",
    "    for word, freq in word_freq_dict.items():\n",
    "        # Get the likely part of speech of the word\n",
    "        synsets = wordnet.synsets(word)\n",
    "        if not synsets:\n",
    "            continue\n",
    "        likely_pos = synsets[0].pos()\n",
    "    \n",
    "        if likely_pos == 'a' or likely_pos == 'v':\n",
    "            filtered_dict[word] = freq\n",
    "    return filtered_dict"
   ]
  },
  {
   "cell_type": "code",
   "execution_count": 23,
   "id": "6b95c208-be9c-4ae6-a71e-91b98f901351",
   "metadata": {},
   "outputs": [],
   "source": [
    "df = pd.read_csv(\"../data/allCounter.csv\")\n",
    "df['counter'] = df['counter'].apply(ast.literal_eval)\n",
    "df['counter'] = df['counter'].apply(filter_adj_and_verbs)"
   ]
  },
  {
   "cell_type": "code",
   "execution_count": 24,
   "id": "e5f2580c-2af9-4b99-8703-6b78d234f898",
   "metadata": {},
   "outputs": [],
   "source": [
    "df.to_csv(\"idk.csv\", index=False)"
   ]
  },
  {
   "cell_type": "markdown",
   "id": "b511c08d-5fe3-4211-9bda-ff19cbfbdc80",
   "metadata": {},
   "source": [
    "### Merge .csv's to add dates - drop 117 songs w/o dates"
   ]
  },
  {
   "cell_type": "code",
   "execution_count": 26,
   "id": "760fa55a-687d-43f2-a2a7-02026f15bcbb",
   "metadata": {},
   "outputs": [],
   "source": [
    "dates = pd.read_csv(\"../data/dates.csv\")\n",
    "polarity = pd.read_csv(\"../data/polarity.csv\")"
   ]
  },
  {
   "cell_type": "code",
   "execution_count": 29,
   "id": "ff5a52af-fe05-4a7f-8586-21fb7b055b01",
   "metadata": {},
   "outputs": [],
   "source": [
    "combined = pd.merge(polarity, dates, on=['song','artist'], how='left')\n",
    "combined.dropna(subset=['dates'], inplace=True)"
   ]
  },
  {
   "cell_type": "raw",
   "id": "1ef01422-50e4-40bb-ab1d-27b23509eae6",
   "metadata": {},
   "source": [
    "combined.to_csv('test.csv', index=False)"
   ]
  }
 ],
 "metadata": {
  "kernelspec": {
   "display_name": "Python 3 (ipykernel)",
   "language": "python",
   "name": "python3"
  },
  "language_info": {
   "codemirror_mode": {
    "name": "ipython",
    "version": 3
   },
   "file_extension": ".py",
   "mimetype": "text/x-python",
   "name": "python",
   "nbconvert_exporter": "python",
   "pygments_lexer": "ipython3",
   "version": "3.11.4"
  }
 },
 "nbformat": 4,
 "nbformat_minor": 5
}
