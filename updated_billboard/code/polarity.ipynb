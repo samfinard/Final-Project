{
 "cells": [
  {
   "cell_type": "markdown",
   "id": "23ab096e-9509-4b91-9d49-c65b28c54f02",
   "metadata": {},
   "source": [
    "### From original paper: polarity = (num_pos + num_neut + 0.1)/(num_neg + num_neut + 0.1)"
   ]
  },
  {
   "cell_type": "markdown",
   "id": "89bb283e-5f83-4e3a-a5cd-e6a19d384430",
   "metadata": {},
   "source": [
    "##### 4 Tools: Vader, Textblob, Bert, Flair"
   ]
  },
  {
   "cell_type": "code",
   "execution_count": 3,
   "id": "67642ab7-c8c9-4017-94ee-389964f3b25f",
   "metadata": {},
   "outputs": [],
   "source": [
    "import pandas as pd\n",
    "import ast\n",
    "from flair.models import TextClassifier\n",
    "from flair.data import Sentence\n",
    "import torch\n",
    "from transformers import BertTokenizer, BertForSequenceClassification\n",
    "from textblob import TextBlob\n",
    "from nltk.sentiment.vader import SentimentIntensityAnalyzer\n",
    "from nltk.corpus import wordnet\n",
    "from tqdm import tqdm\n",
    "tqdm.pandas()"
   ]
  },
  {
   "cell_type": "code",
   "execution_count": null,
   "id": "d859eb01-4218-4ab0-8346-61ed0dfe515e",
   "metadata": {},
   "outputs": [],
   "source": [
    "def is_adj(word):\n",
    "    synsets = wordnet.synsets(word)\n",
    "    if not synsets:\n",
    "        return False\n",
    "    likely_pos = synsets[0].pos()\n",
    "    return likely_pos == 'a'"
   ]
  },
  {
   "cell_type": "code",
   "execution_count": null,
   "id": "b8c4e2b6-efd2-448b-adab-bc19ab5316ae",
   "metadata": {},
   "outputs": [],
   "source": [
    "def count_sentiments(counter_dict, sa_tool, use_boost, threshold=0.1, boost = 0.2):\n",
    "    num_pos = 0\n",
    "    num_neg = 0\n",
    "    num_neu = 0\n",
    "    \n",
    "    if sa_tool == 'V':\n",
    "        sid = SentimentIntensityAnalyzer()\n",
    "        for word, freq in counter_dict.items():\n",
    "            if (use_boost):\n",
    "                freq = freq * (1 + boost) if is_adj(word) else freq * (1 - boost)\n",
    "            if (use_boost and is_adj(word)):\n",
    "                freq *= boost\n",
    "            sentiment_scores = sid.polarity_scores(word)\n",
    "            if sentiment_scores['compound'] >= threshold:\n",
    "                num_pos += freq\n",
    "            elif sentiment_scores['compound'] <= -threshold:\n",
    "                num_neg += freq\n",
    "            else:\n",
    "                num_neu += freq\n",
    "                \n",
    "    elif sa_tool == 'T':\n",
    "        for word, freq in counter_dict.items():\n",
    "            if (use_boost):\n",
    "                freq = freq * (1 + boost) if is_adj(word) else freq * (1 - boost)           \n",
    "            analysis = TextBlob(word)\n",
    "            if analysis.sentiment.polarity > threshold:\n",
    "                num_pos += freq\n",
    "            elif analysis.sentiment.polarity < -threshold:\n",
    "                num_neg += freq\n",
    "            else:\n",
    "                num_neu += freq\n",
    "                \n",
    "    elif sa_tool == 'B':\n",
    "        tokenizer = BertTokenizer.from_pretrained('bert-base-uncased')\n",
    "        model = BertForSequenceClassification.from_pretrained('bert-base-uncased')\n",
    "        for word, freq in counter_dict.items():\n",
    "            if (use_boost):\n",
    "                freq = freq * (1 + boost) if is_adj(word) else freq * (1 - boost)           \n",
    "            inputs = tokenizer(word, return_tensors='pt')\n",
    "            outputs = model(**inputs)\n",
    "            logits = outputs.logits\n",
    "            softmax = torch.nn.functional.softmax(logits, dim=1)\n",
    "            label = torch.argmax(softmax, dim=1).item()\n",
    "            if label == 1:\n",
    "                num_pos += freq\n",
    "            elif label == 0:\n",
    "                num_neu += freq\n",
    "            else:\n",
    "                num_neg += freq\n",
    "                \n",
    "    elif sa_tool == 'F':\n",
    "        classifier = TextClassifier.load('en-sentiment')\n",
    "        for word, freq in counter_dict.items():\n",
    "            if (use_boost):\n",
    "                freq = freq * (1 + boost) if is_adj(word) else freq * (1 - boost)      \n",
    "            sentence = Sentence(word)\n",
    "            classifier.predict(sentence)\n",
    "            label = sentence.labels[0]\n",
    "            if 'POSITIVE' in label.value:\n",
    "                num_pos += freq\n",
    "            elif 'NEGATIVE' in label.value:\n",
    "                num_neg += freq\n",
    "            else:\n",
    "                num_neu += freq\n",
    "    else:\n",
    "        return \"Invalid SA tool specified\"\n",
    "    return {'pos': round(num_pos,1), 'neg': round(num_neg,1), 'neu': round(num_neu,1)}"
   ]
  },
  {
   "cell_type": "code",
   "execution_count": null,
   "id": "c02bb973-21b7-4b9e-9750-7355e5414d83",
   "metadata": {},
   "outputs": [],
   "source": [
    "df = pd.read_csv(\"../data/AdjVCounter.csv\")\n",
    "df['counter'] = df['counter'].apply(ast.literal_eval)"
   ]
  },
  {
   "cell_type": "code",
   "execution_count": null,
   "id": "47785419-da58-4c2f-9d66-01d99875fe68",
   "metadata": {},
   "outputs": [],
   "source": [
    "# df['Vader'] = df['counter'].progress_apply(lambda x: count_sentiments(x, 'V', False))"
   ]
  },
  {
   "cell_type": "code",
   "execution_count": null,
   "id": "c8208ab6-b16d-46f0-adb8-0a19700fef24",
   "metadata": {},
   "outputs": [],
   "source": [
    "# df['TextBlob'] = df['counter'].progress_apply(lambda x: count_sentiments(x, 'T', False))"
   ]
  },
  {
   "cell_type": "code",
   "execution_count": null,
   "id": "5369952f-f18b-4866-a5a7-5bc53fa5a75a",
   "metadata": {},
   "outputs": [],
   "source": [
    "# df['Bert'] = df['counter'].apply_progress(lambda x: count_sentiments(x, 'B', use_boost))"
   ]
  },
  {
   "cell_type": "code",
   "execution_count": null,
   "id": "bc2f1c5d-5db3-4db5-a05f-90e52d593b43",
   "metadata": {},
   "outputs": [],
   "source": [
    "df['Flair'] = df['counter'].progress_apply(lambda x: count_sentiments(x, 'F', False))"
   ]
  },
  {
   "cell_type": "code",
   "execution_count": null,
   "id": "1993c5ee-d3bd-440c-a02d-50177014cbb3",
   "metadata": {},
   "outputs": [],
   "source": [
    "# df['VaderBoost'] = df['counter'].progress_apply(lambda x: count_sentiments(x, 'V', True))"
   ]
  },
  {
   "cell_type": "code",
   "execution_count": null,
   "id": "5aaff5ba-0bd4-4ad6-915b-6995ec8fe38d",
   "metadata": {},
   "outputs": [],
   "source": [
    "# df['TextBlobBoost'] = df['counter'].progress_apply(lambda x: count_sentiments(x, 'T', True))"
   ]
  },
  {
   "cell_type": "code",
   "execution_count": 1,
   "id": "c7eadefe-e45e-4f05-9bce-b3030473e4a6",
   "metadata": {},
   "outputs": [],
   "source": [
    "def dictToPolarity(d):\n",
    "    return (d['pos'] + d['neu'] + 0.1) / (d['neg'] + d['neu'] + 0.1)"
   ]
  },
  {
   "cell_type": "code",
   "execution_count": 4,
   "id": "0c23fac9-1f7d-4fcc-8a16-c9493013a2ec",
   "metadata": {},
   "outputs": [
    {
     "ename": "TypeError",
     "evalue": "string indices must be integers, not 'str'",
     "output_type": "error",
     "traceback": [
      "\u001b[0;31m---------------------------------------------------------------------------\u001b[0m",
      "\u001b[0;31mTypeError\u001b[0m                                 Traceback (most recent call last)",
      "Cell \u001b[0;32mIn[4], line 6\u001b[0m\n\u001b[1;32m      1\u001b[0m \u001b[38;5;66;03m# df['VaderPolarity'] = df['Vader'].apply(dictToPolarity)\u001b[39;00m\n\u001b[1;32m      2\u001b[0m \u001b[38;5;66;03m# df['TextBlobPolarity'] = df['TextBlob'].apply(dictToPolarity)\u001b[39;00m\n\u001b[1;32m      3\u001b[0m \u001b[38;5;66;03m# df['VaderBoostPolarity'] = df['VaderBoost'].apply(dictToPolarity)\u001b[39;00m\n\u001b[1;32m      4\u001b[0m \u001b[38;5;66;03m# df['TextBlobBoostPolarity'] = df['TextBlobBoost'].apply(dictToPolarity)\u001b[39;00m\n\u001b[1;32m      5\u001b[0m df \u001b[38;5;241m=\u001b[39m pd\u001b[38;5;241m.\u001b[39mread_csv(\u001b[38;5;124m\"\u001b[39m\u001b[38;5;124m../data/AdjVPolarity_withFlair.csv\u001b[39m\u001b[38;5;124m\"\u001b[39m)\n\u001b[0;32m----> 6\u001b[0m df[\u001b[38;5;124m'\u001b[39m\u001b[38;5;124mFlairPolarity\u001b[39m\u001b[38;5;124m'\u001b[39m] \u001b[38;5;241m=\u001b[39m \u001b[43mdf\u001b[49m\u001b[43m[\u001b[49m\u001b[38;5;124;43m'\u001b[39;49m\u001b[38;5;124;43mFlair\u001b[39;49m\u001b[38;5;124;43m'\u001b[39;49m\u001b[43m]\u001b[49m\u001b[38;5;241;43m.\u001b[39;49m\u001b[43mapply\u001b[49m\u001b[43m(\u001b[49m\u001b[43mdictToPolarity\u001b[49m\u001b[43m)\u001b[49m\n",
      "File \u001b[0;32m/opt/homebrew/lib/python3.11/site-packages/pandas/core/series.py:4630\u001b[0m, in \u001b[0;36mSeries.apply\u001b[0;34m(self, func, convert_dtype, args, **kwargs)\u001b[0m\n\u001b[1;32m   4520\u001b[0m \u001b[38;5;28;01mdef\u001b[39;00m \u001b[38;5;21mapply\u001b[39m(\n\u001b[1;32m   4521\u001b[0m     \u001b[38;5;28mself\u001b[39m,\n\u001b[1;32m   4522\u001b[0m     func: AggFuncType,\n\u001b[0;32m   (...)\u001b[0m\n\u001b[1;32m   4525\u001b[0m     \u001b[38;5;241m*\u001b[39m\u001b[38;5;241m*\u001b[39mkwargs,\n\u001b[1;32m   4526\u001b[0m ) \u001b[38;5;241m-\u001b[39m\u001b[38;5;241m>\u001b[39m DataFrame \u001b[38;5;241m|\u001b[39m Series:\n\u001b[1;32m   4527\u001b[0m \u001b[38;5;250m    \u001b[39m\u001b[38;5;124;03m\"\"\"\u001b[39;00m\n\u001b[1;32m   4528\u001b[0m \u001b[38;5;124;03m    Invoke function on values of Series.\u001b[39;00m\n\u001b[1;32m   4529\u001b[0m \n\u001b[0;32m   (...)\u001b[0m\n\u001b[1;32m   4628\u001b[0m \u001b[38;5;124;03m    dtype: float64\u001b[39;00m\n\u001b[1;32m   4629\u001b[0m \u001b[38;5;124;03m    \"\"\"\u001b[39;00m\n\u001b[0;32m-> 4630\u001b[0m     \u001b[38;5;28;01mreturn\u001b[39;00m \u001b[43mSeriesApply\u001b[49m\u001b[43m(\u001b[49m\u001b[38;5;28;43mself\u001b[39;49m\u001b[43m,\u001b[49m\u001b[43m \u001b[49m\u001b[43mfunc\u001b[49m\u001b[43m,\u001b[49m\u001b[43m \u001b[49m\u001b[43mconvert_dtype\u001b[49m\u001b[43m,\u001b[49m\u001b[43m \u001b[49m\u001b[43margs\u001b[49m\u001b[43m,\u001b[49m\u001b[43m \u001b[49m\u001b[43mkwargs\u001b[49m\u001b[43m)\u001b[49m\u001b[38;5;241;43m.\u001b[39;49m\u001b[43mapply\u001b[49m\u001b[43m(\u001b[49m\u001b[43m)\u001b[49m\n",
      "File \u001b[0;32m/opt/homebrew/lib/python3.11/site-packages/pandas/core/apply.py:1025\u001b[0m, in \u001b[0;36mSeriesApply.apply\u001b[0;34m(self)\u001b[0m\n\u001b[1;32m   1022\u001b[0m     \u001b[38;5;28;01mreturn\u001b[39;00m \u001b[38;5;28mself\u001b[39m\u001b[38;5;241m.\u001b[39mapply_str()\n\u001b[1;32m   1024\u001b[0m \u001b[38;5;66;03m# self.f is Callable\u001b[39;00m\n\u001b[0;32m-> 1025\u001b[0m \u001b[38;5;28;01mreturn\u001b[39;00m \u001b[38;5;28;43mself\u001b[39;49m\u001b[38;5;241;43m.\u001b[39;49m\u001b[43mapply_standard\u001b[49m\u001b[43m(\u001b[49m\u001b[43m)\u001b[49m\n",
      "File \u001b[0;32m/opt/homebrew/lib/python3.11/site-packages/pandas/core/apply.py:1076\u001b[0m, in \u001b[0;36mSeriesApply.apply_standard\u001b[0;34m(self)\u001b[0m\n\u001b[1;32m   1074\u001b[0m     \u001b[38;5;28;01melse\u001b[39;00m:\n\u001b[1;32m   1075\u001b[0m         values \u001b[38;5;241m=\u001b[39m obj\u001b[38;5;241m.\u001b[39mastype(\u001b[38;5;28mobject\u001b[39m)\u001b[38;5;241m.\u001b[39m_values\n\u001b[0;32m-> 1076\u001b[0m         mapped \u001b[38;5;241m=\u001b[39m \u001b[43mlib\u001b[49m\u001b[38;5;241;43m.\u001b[39;49m\u001b[43mmap_infer\u001b[49m\u001b[43m(\u001b[49m\n\u001b[1;32m   1077\u001b[0m \u001b[43m            \u001b[49m\u001b[43mvalues\u001b[49m\u001b[43m,\u001b[49m\n\u001b[1;32m   1078\u001b[0m \u001b[43m            \u001b[49m\u001b[43mf\u001b[49m\u001b[43m,\u001b[49m\n\u001b[1;32m   1079\u001b[0m \u001b[43m            \u001b[49m\u001b[43mconvert\u001b[49m\u001b[38;5;241;43m=\u001b[39;49m\u001b[38;5;28;43mself\u001b[39;49m\u001b[38;5;241;43m.\u001b[39;49m\u001b[43mconvert_dtype\u001b[49m\u001b[43m,\u001b[49m\n\u001b[1;32m   1080\u001b[0m \u001b[43m        \u001b[49m\u001b[43m)\u001b[49m\n\u001b[1;32m   1082\u001b[0m \u001b[38;5;28;01mif\u001b[39;00m \u001b[38;5;28mlen\u001b[39m(mapped) \u001b[38;5;129;01mand\u001b[39;00m \u001b[38;5;28misinstance\u001b[39m(mapped[\u001b[38;5;241m0\u001b[39m], ABCSeries):\n\u001b[1;32m   1083\u001b[0m     \u001b[38;5;66;03m# GH#43986 Need to do list(mapped) in order to get treated as nested\u001b[39;00m\n\u001b[1;32m   1084\u001b[0m     \u001b[38;5;66;03m#  See also GH#25959 regarding EA support\u001b[39;00m\n\u001b[1;32m   1085\u001b[0m     \u001b[38;5;28;01mreturn\u001b[39;00m obj\u001b[38;5;241m.\u001b[39m_constructor_expanddim(\u001b[38;5;28mlist\u001b[39m(mapped), index\u001b[38;5;241m=\u001b[39mobj\u001b[38;5;241m.\u001b[39mindex)\n",
      "File \u001b[0;32m/opt/homebrew/lib/python3.11/site-packages/pandas/_libs/lib.pyx:2834\u001b[0m, in \u001b[0;36mpandas._libs.lib.map_infer\u001b[0;34m()\u001b[0m\n",
      "Cell \u001b[0;32mIn[1], line 2\u001b[0m, in \u001b[0;36mdictToPolarity\u001b[0;34m(d)\u001b[0m\n\u001b[1;32m      1\u001b[0m \u001b[38;5;28;01mdef\u001b[39;00m \u001b[38;5;21mdictToPolarity\u001b[39m(d):\n\u001b[0;32m----> 2\u001b[0m     \u001b[38;5;28;01mreturn\u001b[39;00m (\u001b[43md\u001b[49m\u001b[43m[\u001b[49m\u001b[38;5;124;43m'\u001b[39;49m\u001b[38;5;124;43mpos\u001b[39;49m\u001b[38;5;124;43m'\u001b[39;49m\u001b[43m]\u001b[49m \u001b[38;5;241m+\u001b[39m d[\u001b[38;5;124m'\u001b[39m\u001b[38;5;124mneu\u001b[39m\u001b[38;5;124m'\u001b[39m] \u001b[38;5;241m+\u001b[39m \u001b[38;5;241m0.1\u001b[39m) \u001b[38;5;241m/\u001b[39m (d[\u001b[38;5;124m'\u001b[39m\u001b[38;5;124mneg\u001b[39m\u001b[38;5;124m'\u001b[39m] \u001b[38;5;241m+\u001b[39m d[\u001b[38;5;124m'\u001b[39m\u001b[38;5;124mneu\u001b[39m\u001b[38;5;124m'\u001b[39m] \u001b[38;5;241m+\u001b[39m \u001b[38;5;241m0.1\u001b[39m)\n",
      "\u001b[0;31mTypeError\u001b[0m: string indices must be integers, not 'str'"
     ]
    }
   ],
   "source": [
    "# df['VaderPolarity'] = df['Vader'].apply(dictToPolarity)\n",
    "# df['TextBlobPolarity'] = df['TextBlob'].apply(dictToPolarity)\n",
    "# df['VaderBoostPolarity'] = df['VaderBoost'].apply(dictToPolarity)\n",
    "# df['TextBlobBoostPolarity'] = df['TextBlobBoost'].apply(dictToPolarity)\n",
    "df = pd.read_csv(\"../data/AdjVPolarity_withFlair.csv\")\n",
    "df['counter'] = df['counter'].apply(ast.literal_eval)\n",
    "df['FlairPolarity'] = df['Flair'].apply(dictToPolarity)"
   ]
  },
  {
   "cell_type": "code",
   "execution_count": null,
   "id": "45740537-9bf0-4f76-96f0-bf2f0812efe5",
   "metadata": {},
   "outputs": [],
   "source": [
    "df.to_csv(\"../data/AdjVPolarityFlairProcessed.csv\", index=False)"
   ]
  }
 ],
 "metadata": {
  "kernelspec": {
   "display_name": "Python 3 (ipykernel)",
   "language": "python",
   "name": "python3"
  },
  "language_info": {
   "codemirror_mode": {
    "name": "ipython",
    "version": 3
   },
   "file_extension": ".py",
   "mimetype": "text/x-python",
   "name": "python",
   "nbconvert_exporter": "python",
   "pygments_lexer": "ipython3",
   "version": "3.11.4"
  }
 },
 "nbformat": 4,
 "nbformat_minor": 5
}
