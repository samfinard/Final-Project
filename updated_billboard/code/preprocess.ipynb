{
 "cells": [
  {
   "cell_type": "code",
   "execution_count": null,
   "id": "68342d6b-0a7f-46fe-9fa2-831f20d12ad9",
   "metadata": {},
   "outputs": [],
   "source": [
    "import pandas as pd\n",
    "import matplotlib.pyplot as plt\n",
    "import re\n",
    "from langdetect import detect\n",
    "from collections import Counter\n",
    "from nltk.corpus import stopwords, wordnet\n",
    "from nltk.stem import WordNetLemmatizer\n",
    "from nltk.tokenize import word_tokenize, RegexpTokenizer\n",
    "import nltk"
   ]
  },
  {
   "cell_type": "code",
   "execution_count": null,
   "id": "ac48aadb-a135-439e-a437-3b061cc4ab26",
   "metadata": {},
   "outputs": [],
   "source": [
    "df = pd.read_csv(\"../data/lyrics.csv\")"
   ]
  },
  {
   "cell_type": "code",
   "execution_count": null,
   "id": "05e28b38-8590-4982-bae4-8ab21cbb545c",
   "metadata": {},
   "outputs": [],
   "source": [
    "df.drop('Unnamed: 0', axis=1, inplace=True)"
   ]
  },
  {
   "cell_type": "code",
   "execution_count": null,
   "id": "effb24e1-f434-4411-9f3c-f59af6773a42",
   "metadata": {},
   "outputs": [],
   "source": [
    "df['lyrics'] = df['lyrics'].str.lower()"
   ]
  },
  {
   "cell_type": "markdown",
   "id": "624a015d-9a05-44e3-8440-bc4275ec5ffe",
   "metadata": {},
   "source": [
    "### Defines which [ordinal ASCII values](https://learn.parallax.com/support/reference/ascii-table-0-127) to keep. We only want lowercase letters, spaces, apostrophes, and hyphens"
   ]
  },
  {
   "cell_type": "code",
   "execution_count": null,
   "id": "3bed873b-9ad4-433c-b078-88b6d142c65f",
   "metadata": {},
   "outputs": [],
   "source": [
    "def keep(char):\n",
    "    o = ord(char)\n",
    "    return(o == 32 or o == 45 or (96 <= o and o <= 122))"
   ]
  },
  {
   "cell_type": "code",
   "execution_count": null,
   "id": "2aff68b9-82a9-48aa-9559-952e6f84cfb6",
   "metadata": {},
   "outputs": [],
   "source": [
    "def remove_fluff(text):\n",
    "    return ''.join(char if keep(char) else ' ' for char in text)"
   ]
  },
  {
   "cell_type": "code",
   "execution_count": null,
   "id": "8158ae59-5753-4fe4-8dfe-ddb1cf380178",
   "metadata": {},
   "outputs": [],
   "source": [
    "df['lyrics'] = df['lyrics'].apply(remove_fluff)"
   ]
  },
  {
   "cell_type": "code",
   "execution_count": null,
   "id": "383241b0-cbad-435c-8e4c-e0e1e9cf95cb",
   "metadata": {},
   "outputs": [],
   "source": [
    "def replace_multiple_spaces(text):\n",
    "    return re.sub(' +', ' ', text)"
   ]
  },
  {
   "cell_type": "code",
   "execution_count": null,
   "id": "fd87cebc-ae99-45c2-a0ab-634bee35d176",
   "metadata": {},
   "outputs": [],
   "source": [
    "df['lyrics'] = df['lyrics'].apply(replace_multiple_spaces)"
   ]
  },
  {
   "cell_type": "code",
   "execution_count": null,
   "id": "73424143-7b77-4ec4-b200-432dcbd8913b",
   "metadata": {},
   "outputs": [],
   "source": [
    "df = df.copy()\n",
    "df['language'] = df['lyrics'].apply(detect)"
   ]
  },
  {
   "cell_type": "code",
   "execution_count": null,
   "id": "8459c3f0-c7c8-4682-944b-e7577968073c",
   "metadata": {},
   "outputs": [],
   "source": [
    "df_english = df[df['language'] == 'en']\n",
    "df = df_english"
   ]
  },
  {
   "cell_type": "markdown",
   "id": "404cd251-12e7-43f2-b1d7-4097bb6c6c00",
   "metadata": {},
   "source": [
    "### Remove Stop Words, Stemming"
   ]
  },
  {
   "cell_type": "code",
   "execution_count": null,
   "id": "c873ee37-068b-4d38-ab26-1683da413143",
   "metadata": {},
   "outputs": [],
   "source": [
    "stop_words = set(stopwords.words('english'))\n",
    "def remove_stop_words(lyric):\n",
    "    return ' '.join([word if word not in stop_words else ' ' for word in lyric.split()])"
   ]
  },
  {
   "cell_type": "code",
   "execution_count": null,
   "id": "842f609a-8b1c-4eac-a20d-a428750e7fd4",
   "metadata": {},
   "outputs": [],
   "source": [
    "df['lyrics_no_sw'] = df['lyrics'].apply(remove_stop_words)"
   ]
  },
  {
   "cell_type": "code",
   "execution_count": null,
   "id": "0bd323fd-79f1-4f87-8124-d72d7a280825",
   "metadata": {},
   "outputs": [],
   "source": [
    "df['lyrics_no_sw'] = df['lyrics_no_sw'].apply(replace_multiple_spaces)"
   ]
  },
  {
   "cell_type": "code",
   "execution_count": null,
   "id": "5fe9971d-473d-4a5d-954a-c466abc6f99e",
   "metadata": {},
   "outputs": [],
   "source": [
    "lemmatizer = WordNetLemmatizer()\n",
    "def get_wordnet_pos(treebank_tag):\n",
    "    if treebank_tag.startswith('J'):\n",
    "        return wordnet.ADJ\n",
    "    elif treebank_tag.startswith('V'):\n",
    "        return wordnet.VERB\n",
    "    elif treebank_tag.startswith('N'):\n",
    "        return wordnet.NOUN\n",
    "    elif treebank_tag.startswith('R'):\n",
    "        return wordnet.ADV\n",
    "    else:\n",
    "        return wordnet.NOUN\n",
    "def lemmatize(lyric):\n",
    "    tokenizer = RegexpTokenizer(r'\\w+')\n",
    "    words = tokenizer.tokenize(lyric)  # Tokenizing\n",
    "    pos_tags = nltk.pos_tag(words)  # Getting POS tags\n",
    "    return ' '.join([lemmatizer.lemmatize(w, get_wordnet_pos(p)).lower() for w, p in pos_tags])"
   ]
  },
  {
   "cell_type": "code",
   "execution_count": null,
   "id": "3f02337d-7a03-40a1-9a3c-64c456055587",
   "metadata": {},
   "outputs": [],
   "source": [
    "df['lemmatized'] = df['lyrics_no_sw'].apply(lemmatize)"
   ]
  },
  {
   "cell_type": "code",
   "execution_count": null,
   "id": "632791e8-0a17-45bc-8ca6-be6b2a8986c3",
   "metadata": {},
   "outputs": [],
   "source": [
    "df['counter'] = df['lemmatized'].apply(lambda x: Counter(x.split()))\n",
    "df['counter'] = df['counter'].apply(lambda x: {k: v for k, v in sorted(x.items(), key=lambda item: item[1], reverse=True)})"
   ]
  },
  {
   "cell_type": "code",
   "execution_count": null,
   "id": "d184ee03-c4a1-467e-8d8e-0f593060b14c",
   "metadata": {},
   "outputs": [],
   "source": [
    "df = df[['song','artist','counter']]"
   ]
  },
  {
   "cell_type": "code",
   "execution_count": null,
   "id": "9b09fbda-cecb-497c-9520-4e300ef8434a",
   "metadata": {},
   "outputs": [],
   "source": [
    "df.to_csv('../data/counter.csv', index=False)"
   ]
  }
 ],
 "metadata": {
  "kernelspec": {
   "display_name": "Python 3 (ipykernel)",
   "language": "python",
   "name": "python3"
  },
  "language_info": {
   "codemirror_mode": {
    "name": "ipython",
    "version": 3
   },
   "file_extension": ".py",
   "mimetype": "text/x-python",
   "name": "python",
   "nbconvert_exporter": "python",
   "pygments_lexer": "ipython3",
   "version": "3.11.4"
  }
 },
 "nbformat": 4,
 "nbformat_minor": 5
}
