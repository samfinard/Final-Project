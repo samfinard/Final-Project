{
 "cells": [
  {
   "cell_type": "code",
   "execution_count": 17,
   "id": "4c8e19ee-944e-4627-85fa-92eee698fcb5",
   "metadata": {},
   "outputs": [],
   "source": [
    "import pandas as pd\n",
    "import numpy as np"
   ]
  },
  {
   "cell_type": "code",
   "execution_count": 38,
   "id": "adf31f7d-755c-4972-8249-cfbe6e576c85",
   "metadata": {},
   "outputs": [],
   "source": [
    "df = pd.read_csv('../master.csv', index_col='date', parse_dates=True, date_format='%m/%d/%y')"
   ]
  },
  {
   "cell_type": "markdown",
   "id": "d5c13b4e-3350-4417-9623-81aabf7931bb",
   "metadata": {},
   "source": [
    "Used to determine whether dataset is stationary or not"
   ]
  },
  {
   "cell_type": "code",
   "execution_count": 19,
   "id": "5c071231-0e1f-400c-bb1b-b2b9853e6e51",
   "metadata": {},
   "outputs": [],
   "source": [
    "from statsmodels.tsa.stattools import adfuller\n",
    "\n",
    "def ad_test(dataset):\n",
    "    dftest = adfuller(dataset, autolag = 'AIC')\n",
    "    print(\"1. ADF : \", dftest[0])\n",
    "    print(\"2. P-Value : \", dftest[1])\n",
    "    print(\"3. Num of Lags : \", dftest[2])\n",
    "    print(\"4. Num of Observations Used for ADF Regression and Critical Values Calculation : \", dftest[3])\n",
    "    print(\"5. Critical Values : \")\n",
    "    for key, val in dftest[4].items():\n",
    "        print(\"\\t\", key, \": \", val)"
   ]
  },
  {
   "cell_type": "code",
   "execution_count": 20,
   "id": "c1b2bdf0-65fa-48ff-b03b-857c0bbf7fa8",
   "metadata": {},
   "outputs": [],
   "source": [
    "df['close'] = (np.log(df['close'])).diff()\n",
    "df.dropna(inplace=True, subset=['close'])"
   ]
  },
  {
   "cell_type": "code",
   "execution_count": 21,
   "id": "9f2b5035-1a28-416f-ba52-8b6720ad0822",
   "metadata": {},
   "outputs": [
    {
     "name": "stdout",
     "output_type": "stream",
     "text": [
      "1. ADF :  -5.88621092057867\n",
      "2. P-Value :  2.9974276204760264e-07\n",
      "3. Num of Lags :  8\n",
      "4. Num of Observations Used for ADF Regression and Critical Values Calculation :  234\n",
      "5. Critical Values : \n",
      "\t 1% :  -3.4586084859607156\n",
      "\t 5% :  -2.873972159235721\n",
      "\t 10% :  -2.57339565928848\n"
     ]
    }
   ],
   "source": [
    "ad_test(df['close'])"
   ]
  },
  {
   "cell_type": "code",
   "execution_count": 22,
   "id": "e8131be0-4f1d-4bd1-88c8-477c81fbd93e",
   "metadata": {},
   "outputs": [],
   "source": [
    "from pmdarima import auto_arima\n",
    "import warnings\n",
    "warnings.filterwarnings(\"ignore\")"
   ]
  },
  {
   "cell_type": "code",
   "execution_count": 23,
   "id": "57e33801-c67e-4e89-81de-2e4fadfc2c15",
   "metadata": {},
   "outputs": [
    {
     "name": "stdout",
     "output_type": "stream",
     "text": [
      "Performing stepwise search to minimize aic\n",
      " ARIMA(2,0,2)(0,0,0)[0] intercept   : AIC=-1104.577, Time=0.17 sec\n",
      " ARIMA(0,0,0)(0,0,0)[0] intercept   : AIC=-1093.029, Time=0.02 sec\n",
      " ARIMA(1,0,0)(0,0,0)[0] intercept   : AIC=-1092.639, Time=0.03 sec\n",
      " ARIMA(0,0,1)(0,0,0)[0] intercept   : AIC=-1092.565, Time=0.06 sec\n",
      " ARIMA(0,0,0)(0,0,0)[0]             : AIC=-1093.950, Time=0.01 sec\n",
      " ARIMA(1,0,2)(0,0,0)[0] intercept   : AIC=-1089.505, Time=0.18 sec\n",
      " ARIMA(2,0,1)(0,0,0)[0] intercept   : AIC=-1088.713, Time=0.05 sec\n",
      " ARIMA(3,0,2)(0,0,0)[0] intercept   : AIC=-1093.945, Time=0.15 sec\n",
      " ARIMA(2,0,3)(0,0,0)[0] intercept   : AIC=-1104.332, Time=0.22 sec\n",
      " ARIMA(1,0,1)(0,0,0)[0] intercept   : AIC=-1090.482, Time=0.05 sec\n",
      " ARIMA(1,0,3)(0,0,0)[0] intercept   : AIC=-1089.600, Time=0.13 sec\n",
      " ARIMA(3,0,1)(0,0,0)[0] intercept   : AIC=-1089.123, Time=0.06 sec\n",
      " ARIMA(3,0,3)(0,0,0)[0] intercept   : AIC=-1102.199, Time=0.23 sec\n",
      " ARIMA(2,0,2)(0,0,0)[0]             : AIC=-1104.627, Time=0.17 sec\n",
      " ARIMA(1,0,2)(0,0,0)[0]             : AIC=-1090.447, Time=0.10 sec\n",
      " ARIMA(2,0,1)(0,0,0)[0]             : AIC=-1089.489, Time=0.02 sec\n",
      " ARIMA(3,0,2)(0,0,0)[0]             : AIC=-1105.271, Time=0.10 sec\n",
      " ARIMA(3,0,1)(0,0,0)[0]             : AIC=-1090.124, Time=0.05 sec\n",
      " ARIMA(4,0,2)(0,0,0)[0]             : AIC=-1103.481, Time=0.18 sec\n",
      " ARIMA(3,0,3)(0,0,0)[0]             : AIC=-1103.404, Time=0.19 sec\n",
      " ARIMA(2,0,3)(0,0,0)[0]             : AIC=-1105.403, Time=0.16 sec\n",
      " ARIMA(1,0,3)(0,0,0)[0]             : AIC=-1090.645, Time=0.04 sec\n",
      " ARIMA(2,0,4)(0,0,0)[0]             : AIC=-1098.197, Time=0.37 sec\n",
      " ARIMA(1,0,4)(0,0,0)[0]             : AIC=-1090.962, Time=0.24 sec\n",
      " ARIMA(3,0,4)(0,0,0)[0]             : AIC=-1095.005, Time=0.71 sec\n",
      "\n",
      "Best model:  ARIMA(2,0,3)(0,0,0)[0]          \n",
      "Total fit time: 3.693 seconds\n"
     ]
    },
    {
     "data": {
      "text/html": [
       "<table class=\"simpletable\">\n",
       "<caption>SARIMAX Results</caption>\n",
       "<tr>\n",
       "  <th>Dep. Variable:</th>           <td>y</td>        <th>  No. Observations:  </th>    <td>243</td>   \n",
       "</tr>\n",
       "<tr>\n",
       "  <th>Model:</th>           <td>SARIMAX(2, 0, 3)</td> <th>  Log Likelihood     </th>  <td>558.701</td> \n",
       "</tr>\n",
       "<tr>\n",
       "  <th>Date:</th>            <td>Sun, 15 Oct 2023</td> <th>  AIC                </th> <td>-1105.403</td>\n",
       "</tr>\n",
       "<tr>\n",
       "  <th>Time:</th>                <td>19:33:07</td>     <th>  BIC                </th> <td>-1084.445</td>\n",
       "</tr>\n",
       "<tr>\n",
       "  <th>Sample:</th>                  <td>0</td>        <th>  HQIC               </th> <td>-1096.961</td>\n",
       "</tr>\n",
       "<tr>\n",
       "  <th></th>                      <td> - 243</td>      <th>                     </th>     <td> </td>    \n",
       "</tr>\n",
       "<tr>\n",
       "  <th>Covariance Type:</th>        <td>opg</td>       <th>                     </th>     <td> </td>    \n",
       "</tr>\n",
       "</table>\n",
       "<table class=\"simpletable\">\n",
       "<tr>\n",
       "     <td></td>       <th>coef</th>     <th>std err</th>      <th>z</th>      <th>P>|z|</th>  <th>[0.025</th>    <th>0.975]</th>  \n",
       "</tr>\n",
       "<tr>\n",
       "  <th>ar.L1</th>  <td>   -0.1765</td> <td>    0.084</td> <td>   -2.094</td> <td> 0.036</td> <td>   -0.342</td> <td>   -0.011</td>\n",
       "</tr>\n",
       "<tr>\n",
       "  <th>ar.L2</th>  <td>   -0.7870</td> <td>    0.076</td> <td>  -10.354</td> <td> 0.000</td> <td>   -0.936</td> <td>   -0.638</td>\n",
       "</tr>\n",
       "<tr>\n",
       "  <th>ma.L1</th>  <td>    0.0967</td> <td>    0.091</td> <td>    1.068</td> <td> 0.286</td> <td>   -0.081</td> <td>    0.274</td>\n",
       "</tr>\n",
       "<tr>\n",
       "  <th>ma.L2</th>  <td>    0.8723</td> <td>    0.070</td> <td>   12.445</td> <td> 0.000</td> <td>    0.735</td> <td>    1.010</td>\n",
       "</tr>\n",
       "<tr>\n",
       "  <th>ma.L3</th>  <td>    0.0989</td> <td>    0.040</td> <td>    2.477</td> <td> 0.013</td> <td>    0.021</td> <td>    0.177</td>\n",
       "</tr>\n",
       "<tr>\n",
       "  <th>sigma2</th> <td>    0.0006</td> <td> 2.62e-05</td> <td>   22.407</td> <td> 0.000</td> <td>    0.001</td> <td>    0.001</td>\n",
       "</tr>\n",
       "</table>\n",
       "<table class=\"simpletable\">\n",
       "<tr>\n",
       "  <th>Ljung-Box (L1) (Q):</th>     <td>0.00</td> <th>  Jarque-Bera (JB):  </th> <td>1263.94</td>\n",
       "</tr>\n",
       "<tr>\n",
       "  <th>Prob(Q):</th>                <td>0.96</td> <th>  Prob(JB):          </th>  <td>0.00</td>  \n",
       "</tr>\n",
       "<tr>\n",
       "  <th>Heteroskedasticity (H):</th> <td>2.43</td> <th>  Skew:              </th>  <td>-2.01</td> \n",
       "</tr>\n",
       "<tr>\n",
       "  <th>Prob(H) (two-sided):</th>    <td>0.00</td> <th>  Kurtosis:          </th>  <td>13.42</td> \n",
       "</tr>\n",
       "</table><br/><br/>Warnings:<br/>[1] Covariance matrix calculated using the outer product of gradients (complex-step)."
      ],
      "text/latex": [
       "\\begin{center}\n",
       "\\begin{tabular}{lclc}\n",
       "\\toprule\n",
       "\\textbf{Dep. Variable:}          &        y         & \\textbf{  No. Observations:  } &    243      \\\\\n",
       "\\textbf{Model:}                  & SARIMAX(2, 0, 3) & \\textbf{  Log Likelihood     } &  558.701    \\\\\n",
       "\\textbf{Date:}                   & Sun, 15 Oct 2023 & \\textbf{  AIC                } & -1105.403   \\\\\n",
       "\\textbf{Time:}                   &     19:33:07     & \\textbf{  BIC                } & -1084.445   \\\\\n",
       "\\textbf{Sample:}                 &        0         & \\textbf{  HQIC               } & -1096.961   \\\\\n",
       "\\textbf{}                        &       - 243      & \\textbf{                     } &             \\\\\n",
       "\\textbf{Covariance Type:}        &       opg        & \\textbf{                     } &             \\\\\n",
       "\\bottomrule\n",
       "\\end{tabular}\n",
       "\\begin{tabular}{lcccccc}\n",
       "                & \\textbf{coef} & \\textbf{std err} & \\textbf{z} & \\textbf{P$> |$z$|$} & \\textbf{[0.025} & \\textbf{0.975]}  \\\\\n",
       "\\midrule\n",
       "\\textbf{ar.L1}  &      -0.1765  &        0.084     &    -2.094  &         0.036        &       -0.342    &       -0.011     \\\\\n",
       "\\textbf{ar.L2}  &      -0.7870  &        0.076     &   -10.354  &         0.000        &       -0.936    &       -0.638     \\\\\n",
       "\\textbf{ma.L1}  &       0.0967  &        0.091     &     1.068  &         0.286        &       -0.081    &        0.274     \\\\\n",
       "\\textbf{ma.L2}  &       0.8723  &        0.070     &    12.445  &         0.000        &        0.735    &        1.010     \\\\\n",
       "\\textbf{ma.L3}  &       0.0989  &        0.040     &     2.477  &         0.013        &        0.021    &        0.177     \\\\\n",
       "\\textbf{sigma2} &       0.0006  &     2.62e-05     &    22.407  &         0.000        &        0.001    &        0.001     \\\\\n",
       "\\bottomrule\n",
       "\\end{tabular}\n",
       "\\begin{tabular}{lclc}\n",
       "\\textbf{Ljung-Box (L1) (Q):}     & 0.00 & \\textbf{  Jarque-Bera (JB):  } & 1263.94  \\\\\n",
       "\\textbf{Prob(Q):}                & 0.96 & \\textbf{  Prob(JB):          } &   0.00   \\\\\n",
       "\\textbf{Heteroskedasticity (H):} & 2.43 & \\textbf{  Skew:              } &  -2.01   \\\\\n",
       "\\textbf{Prob(H) (two-sided):}    & 0.00 & \\textbf{  Kurtosis:          } &  13.42   \\\\\n",
       "\\bottomrule\n",
       "\\end{tabular}\n",
       "%\\caption{SARIMAX Results}\n",
       "\\end{center}\n",
       "\n",
       "Warnings: \\newline\n",
       " [1] Covariance matrix calculated using the outer product of gradients (complex-step)."
      ],
      "text/plain": [
       "<class 'statsmodels.iolib.summary.Summary'>\n",
       "\"\"\"\n",
       "                               SARIMAX Results                                \n",
       "==============================================================================\n",
       "Dep. Variable:                      y   No. Observations:                  243\n",
       "Model:               SARIMAX(2, 0, 3)   Log Likelihood                 558.701\n",
       "Date:                Sun, 15 Oct 2023   AIC                          -1105.403\n",
       "Time:                        19:33:07   BIC                          -1084.445\n",
       "Sample:                             0   HQIC                         -1096.961\n",
       "                                - 243                                         \n",
       "Covariance Type:                  opg                                         \n",
       "==============================================================================\n",
       "                 coef    std err          z      P>|z|      [0.025      0.975]\n",
       "------------------------------------------------------------------------------\n",
       "ar.L1         -0.1765      0.084     -2.094      0.036      -0.342      -0.011\n",
       "ar.L2         -0.7870      0.076    -10.354      0.000      -0.936      -0.638\n",
       "ma.L1          0.0967      0.091      1.068      0.286      -0.081       0.274\n",
       "ma.L2          0.8723      0.070     12.445      0.000       0.735       1.010\n",
       "ma.L3          0.0989      0.040      2.477      0.013       0.021       0.177\n",
       "sigma2         0.0006   2.62e-05     22.407      0.000       0.001       0.001\n",
       "===================================================================================\n",
       "Ljung-Box (L1) (Q):                   0.00   Jarque-Bera (JB):              1263.94\n",
       "Prob(Q):                              0.96   Prob(JB):                         0.00\n",
       "Heteroskedasticity (H):               2.43   Skew:                            -2.01\n",
       "Prob(H) (two-sided):                  0.00   Kurtosis:                        13.42\n",
       "===================================================================================\n",
       "\n",
       "Warnings:\n",
       "[1] Covariance matrix calculated using the outer product of gradients (complex-step).\n",
       "\"\"\""
      ]
     },
     "execution_count": 23,
     "metadata": {},
     "output_type": "execute_result"
    }
   ],
   "source": [
    "stepwise_fit = auto_arima(df['close'],trace=True, suppress_warnings=True)\n",
    "stepwise_fit.summary()"
   ]
  },
  {
   "cell_type": "code",
   "execution_count": 24,
   "id": "76381143-6555-4c3a-aa3e-a44abb884086",
   "metadata": {},
   "outputs": [],
   "source": [
    "from statsmodels.tsa.arima.model import ARIMA"
   ]
  },
  {
   "cell_type": "code",
   "execution_count": 25,
   "id": "b7825b55-54f7-4ad3-a5b4-a6c6ef77b34c",
   "metadata": {},
   "outputs": [],
   "source": [
    "train = df.iloc[:-30]\n",
    "test = df.iloc[-30:]"
   ]
  },
  {
   "cell_type": "code",
   "execution_count": 30,
   "id": "bee757ad-488f-4c41-b2b0-d503541959f4",
   "metadata": {},
   "outputs": [
    {
     "data": {
      "text/html": [
       "<table class=\"simpletable\">\n",
       "<caption>SARIMAX Results</caption>\n",
       "<tr>\n",
       "  <th>Dep. Variable:</th>         <td>close</td>      <th>  No. Observations:  </th>    <td>213</td>  \n",
       "</tr>\n",
       "<tr>\n",
       "  <th>Model:</th>            <td>ARIMA(2, 0, 3)</td>  <th>  Log Likelihood     </th>  <td>482.083</td>\n",
       "</tr>\n",
       "<tr>\n",
       "  <th>Date:</th>            <td>Sun, 15 Oct 2023</td> <th>  AIC                </th> <td>-950.165</td>\n",
       "</tr>\n",
       "<tr>\n",
       "  <th>Time:</th>                <td>19:34:18</td>     <th>  BIC                </th> <td>-926.636</td>\n",
       "</tr>\n",
       "<tr>\n",
       "  <th>Sample:</th>                  <td>0</td>        <th>  HQIC               </th> <td>-940.656</td>\n",
       "</tr>\n",
       "<tr>\n",
       "  <th></th>                      <td> - 213</td>      <th>                     </th>     <td> </td>   \n",
       "</tr>\n",
       "<tr>\n",
       "  <th>Covariance Type:</th>        <td>opg</td>       <th>                     </th>     <td> </td>   \n",
       "</tr>\n",
       "</table>\n",
       "<table class=\"simpletable\">\n",
       "<tr>\n",
       "     <td></td>       <th>coef</th>     <th>std err</th>      <th>z</th>      <th>P>|z|</th>  <th>[0.025</th>    <th>0.975]</th>  \n",
       "</tr>\n",
       "<tr>\n",
       "  <th>const</th>  <td>    0.0015</td> <td>    0.003</td> <td>    0.602</td> <td> 0.548</td> <td>   -0.003</td> <td>    0.007</td>\n",
       "</tr>\n",
       "<tr>\n",
       "  <th>ar.L1</th>  <td>   -0.1805</td> <td>    0.107</td> <td>   -1.687</td> <td> 0.092</td> <td>   -0.390</td> <td>    0.029</td>\n",
       "</tr>\n",
       "<tr>\n",
       "  <th>ar.L2</th>  <td>   -0.7406</td> <td>    0.088</td> <td>   -8.408</td> <td> 0.000</td> <td>   -0.913</td> <td>   -0.568</td>\n",
       "</tr>\n",
       "<tr>\n",
       "  <th>ma.L1</th>  <td>    0.1010</td> <td>    0.114</td> <td>    0.890</td> <td> 0.373</td> <td>   -0.121</td> <td>    0.324</td>\n",
       "</tr>\n",
       "<tr>\n",
       "  <th>ma.L2</th>  <td>    0.8459</td> <td>    0.084</td> <td>   10.080</td> <td> 0.000</td> <td>    0.681</td> <td>    1.010</td>\n",
       "</tr>\n",
       "<tr>\n",
       "  <th>ma.L3</th>  <td>    0.1203</td> <td>    0.045</td> <td>    2.678</td> <td> 0.007</td> <td>    0.032</td> <td>    0.208</td>\n",
       "</tr>\n",
       "<tr>\n",
       "  <th>sigma2</th> <td>    0.0006</td> <td>  3.5e-05</td> <td>   18.108</td> <td> 0.000</td> <td>    0.001</td> <td>    0.001</td>\n",
       "</tr>\n",
       "</table>\n",
       "<table class=\"simpletable\">\n",
       "<tr>\n",
       "  <th>Ljung-Box (L1) (Q):</th>     <td>0.00</td> <th>  Jarque-Bera (JB):  </th> <td>1008.96</td>\n",
       "</tr>\n",
       "<tr>\n",
       "  <th>Prob(Q):</th>                <td>1.00</td> <th>  Prob(JB):          </th>  <td>0.00</td>  \n",
       "</tr>\n",
       "<tr>\n",
       "  <th>Heteroskedasticity (H):</th> <td>5.93</td> <th>  Skew:              </th>  <td>-1.99</td> \n",
       "</tr>\n",
       "<tr>\n",
       "  <th>Prob(H) (two-sided):</th>    <td>0.00</td> <th>  Kurtosis:          </th>  <td>12.89</td> \n",
       "</tr>\n",
       "</table><br/><br/>Warnings:<br/>[1] Covariance matrix calculated using the outer product of gradients (complex-step)."
      ],
      "text/latex": [
       "\\begin{center}\n",
       "\\begin{tabular}{lclc}\n",
       "\\toprule\n",
       "\\textbf{Dep. Variable:}          &      close       & \\textbf{  No. Observations:  } &    213      \\\\\n",
       "\\textbf{Model:}                  &  ARIMA(2, 0, 3)  & \\textbf{  Log Likelihood     } &  482.083    \\\\\n",
       "\\textbf{Date:}                   & Sun, 15 Oct 2023 & \\textbf{  AIC                } &  -950.165   \\\\\n",
       "\\textbf{Time:}                   &     19:34:18     & \\textbf{  BIC                } &  -926.636   \\\\\n",
       "\\textbf{Sample:}                 &        0         & \\textbf{  HQIC               } &  -940.656   \\\\\n",
       "\\textbf{}                        &       - 213      & \\textbf{                     } &             \\\\\n",
       "\\textbf{Covariance Type:}        &       opg        & \\textbf{                     } &             \\\\\n",
       "\\bottomrule\n",
       "\\end{tabular}\n",
       "\\begin{tabular}{lcccccc}\n",
       "                & \\textbf{coef} & \\textbf{std err} & \\textbf{z} & \\textbf{P$> |$z$|$} & \\textbf{[0.025} & \\textbf{0.975]}  \\\\\n",
       "\\midrule\n",
       "\\textbf{const}  &       0.0015  &        0.003     &     0.602  &         0.548        &       -0.003    &        0.007     \\\\\n",
       "\\textbf{ar.L1}  &      -0.1805  &        0.107     &    -1.687  &         0.092        &       -0.390    &        0.029     \\\\\n",
       "\\textbf{ar.L2}  &      -0.7406  &        0.088     &    -8.408  &         0.000        &       -0.913    &       -0.568     \\\\\n",
       "\\textbf{ma.L1}  &       0.1010  &        0.114     &     0.890  &         0.373        &       -0.121    &        0.324     \\\\\n",
       "\\textbf{ma.L2}  &       0.8459  &        0.084     &    10.080  &         0.000        &        0.681    &        1.010     \\\\\n",
       "\\textbf{ma.L3}  &       0.1203  &        0.045     &     2.678  &         0.007        &        0.032    &        0.208     \\\\\n",
       "\\textbf{sigma2} &       0.0006  &      3.5e-05     &    18.108  &         0.000        &        0.001    &        0.001     \\\\\n",
       "\\bottomrule\n",
       "\\end{tabular}\n",
       "\\begin{tabular}{lclc}\n",
       "\\textbf{Ljung-Box (L1) (Q):}     & 0.00 & \\textbf{  Jarque-Bera (JB):  } & 1008.96  \\\\\n",
       "\\textbf{Prob(Q):}                & 1.00 & \\textbf{  Prob(JB):          } &   0.00   \\\\\n",
       "\\textbf{Heteroskedasticity (H):} & 5.93 & \\textbf{  Skew:              } &  -1.99   \\\\\n",
       "\\textbf{Prob(H) (two-sided):}    & 0.00 & \\textbf{  Kurtosis:          } &  12.89   \\\\\n",
       "\\bottomrule\n",
       "\\end{tabular}\n",
       "%\\caption{SARIMAX Results}\n",
       "\\end{center}\n",
       "\n",
       "Warnings: \\newline\n",
       " [1] Covariance matrix calculated using the outer product of gradients (complex-step)."
      ],
      "text/plain": [
       "<class 'statsmodels.iolib.summary.Summary'>\n",
       "\"\"\"\n",
       "                               SARIMAX Results                                \n",
       "==============================================================================\n",
       "Dep. Variable:                  close   No. Observations:                  213\n",
       "Model:                 ARIMA(2, 0, 3)   Log Likelihood                 482.083\n",
       "Date:                Sun, 15 Oct 2023   AIC                           -950.165\n",
       "Time:                        19:34:18   BIC                           -926.636\n",
       "Sample:                             0   HQIC                          -940.656\n",
       "                                - 213                                         \n",
       "Covariance Type:                  opg                                         \n",
       "==============================================================================\n",
       "                 coef    std err          z      P>|z|      [0.025      0.975]\n",
       "------------------------------------------------------------------------------\n",
       "const          0.0015      0.003      0.602      0.548      -0.003       0.007\n",
       "ar.L1         -0.1805      0.107     -1.687      0.092      -0.390       0.029\n",
       "ar.L2         -0.7406      0.088     -8.408      0.000      -0.913      -0.568\n",
       "ma.L1          0.1010      0.114      0.890      0.373      -0.121       0.324\n",
       "ma.L2          0.8459      0.084     10.080      0.000       0.681       1.010\n",
       "ma.L3          0.1203      0.045      2.678      0.007       0.032       0.208\n",
       "sigma2         0.0006    3.5e-05     18.108      0.000       0.001       0.001\n",
       "===================================================================================\n",
       "Ljung-Box (L1) (Q):                   0.00   Jarque-Bera (JB):              1008.96\n",
       "Prob(Q):                              1.00   Prob(JB):                         0.00\n",
       "Heteroskedasticity (H):               5.93   Skew:                            -1.99\n",
       "Prob(H) (two-sided):                  0.00   Kurtosis:                        12.89\n",
       "===================================================================================\n",
       "\n",
       "Warnings:\n",
       "[1] Covariance matrix calculated using the outer product of gradients (complex-step).\n",
       "\"\"\""
      ]
     },
     "execution_count": 30,
     "metadata": {},
     "output_type": "execute_result"
    }
   ],
   "source": [
    "model = ARIMA(train['close'], order = (2,0,3))\n",
    "model = model.fit()\n",
    "model.summary()"
   ]
  },
  {
   "cell_type": "code",
   "execution_count": 31,
   "id": "b5b7b368-de98-4bf5-bca3-35b3dcc64507",
   "metadata": {},
   "outputs": [
    {
     "name": "stdout",
     "output_type": "stream",
     "text": [
      "date\n",
      "2021-05-25   -0.003765\n",
      "2021-06-01    0.005008\n",
      "2021-06-08    0.005101\n",
      "2021-06-15   -0.001694\n",
      "2021-06-22   -0.000536\n",
      "2021-06-29    0.004287\n",
      "2021-07-06    0.002559\n",
      "2021-07-13   -0.000701\n",
      "2021-07-20    0.001167\n",
      "2021-07-27    0.003244\n",
      "2021-08-03    0.001486\n",
      "2021-08-10    0.000265\n",
      "2021-08-17    0.001788\n",
      "2021-08-24    0.002417\n",
      "2021-08-31    0.001176\n",
      "2021-09-07    0.000934\n",
      "2021-09-14    0.001897\n",
      "2021-09-21    0.001902\n",
      "2021-09-28    0.001188\n",
      "2021-10-05    0.001313\n",
      "2021-10-12    0.001819\n",
      "2021-10-19    0.001635\n",
      "2021-10-26    0.001293\n",
      "2021-11-02    0.001491\n",
      "2021-11-09    0.001709\n",
      "2021-11-16    0.001523\n",
      "2021-11-23    0.001395\n",
      "2021-11-30    0.001556\n",
      "2021-12-07    0.001622\n",
      "2021-12-14    0.001491\n",
      "Name: predicted_mean, dtype: float64\n"
     ]
    }
   ],
   "source": [
    "start, end = len(train), len(train) + len(test) - 1\n",
    "pred = model.predict(start=start, end=end, typ='levels')\n",
    "pred.index = df.index[start:end + 1]\n",
    "print(pred)"
   ]
  },
  {
   "cell_type": "code",
   "execution_count": 32,
   "id": "3fc3f598-9fb1-412e-ba9e-6a93f4e5b23f",
   "metadata": {},
   "outputs": [
    {
     "data": {
      "text/plain": [
       "<Axes: xlabel='date'>"
      ]
     },
     "execution_count": 32,
     "metadata": {},
     "output_type": "execute_result"
    },
    {
     "data": {
      "image/png": "[encoded data removed]",
      "text/plain": [
       "<Figure size 640x480 with 1 Axes>"
      ]
     },
     "metadata": {},
     "output_type": "display_data"
    }
   ],
   "source": [
    "pred.plot(legend=True)\n",
    "test['close'].plot(legend=True)"
   ]
  },
  {
   "cell_type": "code",
   "execution_count": 37,
   "id": "d9d9ea95-7a65-471e-ad8e-c1c043b1c915",
   "metadata": {},
   "outputs": [
    {
     "name": "stdout",
     "output_type": "stream",
     "text": [
      "5.115078964231916\n"
     ]
    }
   ],
   "source": [
    "from sklearn.metrics import mean_squared_error\n",
    "from math import sqrt\n",
    "rmse = sqrt(mean_squared_error(pred, test['close']))\n",
    "print(rmse / test['close'].mean())\n"
   ]
  }
 ],
 "metadata": {
  "kernelspec": {
   "display_name": "Python 3 (ipykernel)",
   "language": "python",
   "name": "python3"
  },
  "language_info": {
   "codemirror_mode": {
    "name": "ipython",
    "version": 3
   },
   "file_extension": ".py",
   "mimetype": "text/x-python",
   "name": "python",
   "nbconvert_exporter": "python",
   "pygments_lexer": "ipython3",
   "version": "3.11.5"
  }
 },
 "nbformat": 4,
 "nbformat_minor": 5
}
