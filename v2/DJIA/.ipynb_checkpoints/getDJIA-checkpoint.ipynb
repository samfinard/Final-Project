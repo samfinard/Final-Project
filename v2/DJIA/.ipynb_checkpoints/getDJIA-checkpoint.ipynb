{
 "cells": [
  {
   "cell_type": "markdown",
   "id": "29232edb-395f-4e5a-9485-cd8966ff4a7c",
   "metadata": {},
   "source": [
    "### Gets DJIA values over time period"
   ]
  },
  {
   "cell_type": "code",
   "execution_count": 1,
   "id": "a16c2e5a-c219-4e9c-b483-5610a4c014dd",
   "metadata": {},
   "outputs": [],
   "source": [
    "import pandas as pd\n",
    "import yfinance as yf"
   ]
  },
  {
   "cell_type": "code",
   "execution_count": 2,
   "id": "dfef83d8-b6ba-4656-9c78-0ec99d10ce33",
   "metadata": {},
   "outputs": [],
   "source": [
    "start_date = \"2023-01-01\"\n",
    "end_date = \"2023-10-09\""
   ]
  },
  {
   "cell_type": "code",
   "execution_count": null,
   "id": "1e902038-9b68-4a2e-9370-5bfa71234b06",
   "metadata": {},
   "outputs": [],
   "source": [
    "dow_jones = yf.Ticker(\"^DJI\")\n",
    "hist_data = dow_jones.history(start=start_date, end=end_date)"
   ]
  }
 ],
 "metadata": {
  "kernelspec": {
   "display_name": "Python 3 (ipykernel)",
   "language": "python",
   "name": "python3"
  },
  "language_info": {
   "codemirror_mode": {
    "name": "ipython",
    "version": 3
   },
   "file_extension": ".py",
   "mimetype": "text/x-python",
   "name": "python",
   "nbconvert_exporter": "python",
   "pygments_lexer": "ipython3",
   "version": "3.11.5"
  }
 },
 "nbformat": 4,
 "nbformat_minor": 5
}
